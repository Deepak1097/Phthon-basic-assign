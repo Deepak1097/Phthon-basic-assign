{
 "cells": [
  {
   "cell_type": "raw",
   "id": "ad6f8935",
   "metadata": {},
   "source": [
    "Q1. Is the Python Standard Library included with PyInputPlus?\n",
    "    \n",
    "     PyInputPlus is not a part of the Python Standard Library."
   ]
  },
  {
   "cell_type": "raw",
   "id": "2648c64d",
   "metadata": {},
   "source": [
    "Q2. Why is PyInputPlus commonly imported with import pyinputplus as pypi?\n",
    "    \n",
    "    pypi is alias of PyInputPlus.\n",
    "    The as pyip code in the import statement saves us from typing pyinputplus each time we want to call a PyInputPlus function.     Instead we can use the shorter pyip name"
   ]
  },
  {
   "cell_type": "raw",
   "id": "b3d0e1f4",
   "metadata": {},
   "source": [
    "Q3. How do you distinguish between inputInt() and inputFloat()?"
   ]
  },
  {
   "cell_type": "raw",
   "id": "8a50357f",
   "metadata": {},
   "source": [
    "inputInt() : Accepts an integer value, and returns int value\n",
    "inputFloat() : Accepts integer/floating point value and returns float value"
   ]
  },
  {
   "cell_type": "raw",
   "id": "eb29cb58",
   "metadata": {},
   "source": [
    "Q4. Using PyInputPlus, how do you ensure that the user enters a whole number between 0 and 99?"
   ]
  },
  {
   "cell_type": "raw",
   "id": "926b3357",
   "metadata": {},
   "source": [
    "In the inputint function we can set the min = 0 and max =99 to ensure user enters number between 0 and 99\n",
    "\n",
    "for eg: "
   ]
  },
  {
   "cell_type": "code",
   "execution_count": 10,
   "id": "d32e5d14",
   "metadata": {},
   "outputs": [
    {
     "name": "stdout",
     "output_type": "stream",
     "text": [
      "456\n",
      "Number must be at maximum 99.\n",
      "5\n"
     ]
    },
    {
     "data": {
      "text/plain": [
       "5"
      ]
     },
     "execution_count": 10,
     "metadata": {},
     "output_type": "execute_result"
    }
   ],
   "source": [
    "pyip.inputInt(min = 0, max =99)"
   ]
  },
  {
   "cell_type": "code",
   "execution_count": 3,
   "id": "36906295",
   "metadata": {},
   "outputs": [
    {
     "name": "stdout",
     "output_type": "stream",
     "text": [
      "Collecting pyip\n",
      "  Downloading pyip-0.7.zip (19 kB)\n",
      "Building wheels for collected packages: pyip\n",
      "  Building wheel for pyip (setup.py): started\n",
      "  Building wheel for pyip (setup.py): finished with status 'done'\n",
      "  Created wheel for pyip: filename=pyip-0.7-py3-none-any.whl size=17405 sha256=177a9dddaa1b59cc36272a6304029f4fb1155977f5c76cf876e3f73e9e7e2b8d\n",
      "  Stored in directory: c:\\users\\start\\appdata\\local\\pip\\cache\\wheels\\79\\bf\\68\\7d921f024443ca93456171179e66a05b16bcd6cd6575199686\n",
      "Successfully built pyip\n",
      "Installing collected packages: pyip\n",
      "Successfully installed pyip-0.7\n"
     ]
    }
   ],
   "source": [
    "!pip install pyip"
   ]
  },
  {
   "cell_type": "code",
   "execution_count": 8,
   "id": "870e6fbd",
   "metadata": {},
   "outputs": [
    {
     "name": "stdout",
     "output_type": "stream",
     "text": [
      "Collecting pyinputplus\n",
      "  Downloading PyInputPlus-0.2.12.tar.gz (20 kB)\n",
      "  Installing build dependencies: started\n",
      "  Installing build dependencies: finished with status 'done'\n",
      "  Getting requirements to build wheel: started\n",
      "  Getting requirements to build wheel: finished with status 'done'\n",
      "    Preparing wheel metadata: started\n",
      "    Preparing wheel metadata: finished with status 'done'\n",
      "Collecting stdiomask>=0.0.3\n",
      "  Downloading stdiomask-0.0.6.tar.gz (3.6 kB)\n",
      "  Installing build dependencies: started\n",
      "  Installing build dependencies: finished with status 'done'\n",
      "  Getting requirements to build wheel: started\n",
      "  Getting requirements to build wheel: finished with status 'done'\n",
      "    Preparing wheel metadata: started\n",
      "    Preparing wheel metadata: finished with status 'done'\n",
      "Collecting pysimplevalidate>=0.2.7\n",
      "  Downloading PySimpleValidate-0.2.12.tar.gz (22 kB)\n",
      "  Installing build dependencies: started\n",
      "  Installing build dependencies: finished with status 'done'\n",
      "  Getting requirements to build wheel: started\n",
      "  Getting requirements to build wheel: finished with status 'done'\n",
      "    Preparing wheel metadata: started\n",
      "    Preparing wheel metadata: finished with status 'done'\n",
      "Building wheels for collected packages: pyinputplus, pysimplevalidate, stdiomask\n",
      "  Building wheel for pyinputplus (PEP 517): started\n",
      "  Building wheel for pyinputplus (PEP 517): finished with status 'done'\n",
      "  Created wheel for pyinputplus: filename=PyInputPlus-0.2.12-py3-none-any.whl size=11315 sha256=091ddd91e98ec939978ccf59d17bdc7c1e4a775ff24a16f63baf947e96e9f6cc\n",
      "  Stored in directory: c:\\users\\start\\appdata\\local\\pip\\cache\\wheels\\b4\\6e\\2f\\8a852732646cabec36c3fe8fc060ec5bea1c1be711432c47f7\n",
      "  Building wheel for pysimplevalidate (PEP 517): started\n",
      "  Building wheel for pysimplevalidate (PEP 517): finished with status 'done'\n",
      "  Created wheel for pysimplevalidate: filename=PySimpleValidate-0.2.12-py3-none-any.whl size=16193 sha256=c3b989ff3226d11e8b1761f76e0b4158262ddf307eaf78a7a8c2c81ed8472c5a\n",
      "  Stored in directory: c:\\users\\start\\appdata\\local\\pip\\cache\\wheels\\b1\\44\\4a\\043a4f4c4512c7cdfb0c2b8408b18b0de5fd45cac57f5dfa02\n",
      "  Building wheel for stdiomask (PEP 517): started\n",
      "  Building wheel for stdiomask (PEP 517): finished with status 'done'\n",
      "  Created wheel for stdiomask: filename=stdiomask-0.0.6-py3-none-any.whl size=3321 sha256=49ba125c90f8f0432eed49f5048963bf881f5f88bc4f01c446f4a2fdce8c9eb7\n",
      "  Stored in directory: c:\\users\\start\\appdata\\local\\pip\\cache\\wheels\\1d\\aa\\47\\f41f117d22c5de82e95d9342f44da578c80610739a2d5ebec4\n",
      "Successfully built pyinputplus pysimplevalidate stdiomask\n",
      "Installing collected packages: stdiomask, pysimplevalidate, pyinputplus\n",
      "Successfully installed pyinputplus-0.2.12 pysimplevalidate-0.2.12 stdiomask-0.0.6\n"
     ]
    }
   ],
   "source": [
    "!pip install pyinputplus"
   ]
  },
  {
   "cell_type": "code",
   "execution_count": 9,
   "id": "8087eaab",
   "metadata": {},
   "outputs": [],
   "source": [
    "import pyinputplus as pyip"
   ]
  },
  {
   "cell_type": "raw",
   "id": "c6affd12",
   "metadata": {},
   "source": [
    "Q5. What is transferred to the keyword arguments allowRegexes and blockRegexes?\n",
    "\n",
    "    we can also use regular expressions to specify whether an input is allowed or not. The allowRegexes and blockRegexes \n",
    "    keyword arguments take a list of regular expression strings to determine what the PyInputPlus function will accept or \n",
    "    reject as valid input."
   ]
  },
  {
   "cell_type": "raw",
   "id": "767b5e04",
   "metadata": {},
   "source": [
    "Q6. If a blank input is entered three times, what does inputStr(limit=3) do?\n",
    "    \n",
    "    it will throw RetryLimitException exception."
   ]
  },
  {
   "cell_type": "raw",
   "id": "52addb0e",
   "metadata": {},
   "source": [
    "Q7. If blank input is entered three times, what does inputStr(limit=3, default='hello') do?\n",
    "   \n",
    "   When you use limit keyword arguments and also pass a default keyword argument, the function returns the default value          instead of raising an exception"
   ]
  },
  {
   "cell_type": "code",
   "execution_count": 13,
   "id": "dbabba34",
   "metadata": {},
   "outputs": [
    {
     "name": "stdout",
     "output_type": "stream",
     "text": [
      "\n",
      "Blank values are not allowed.\n",
      "\n",
      "Blank values are not allowed.\n",
      "\n",
      "Blank values are not allowed.\n"
     ]
    }
   ],
   "source": [
    "response = pyip.inputStr(limit=3,default='hello')\n"
   ]
  },
  {
   "cell_type": "code",
   "execution_count": null,
   "id": "a1afdebd",
   "metadata": {},
   "outputs": [],
   "source": []
  }
 ],
 "metadata": {
  "kernelspec": {
   "display_name": "Python 3 (ipykernel)",
   "language": "python",
   "name": "python3"
  },
  "language_info": {
   "codemirror_mode": {
    "name": "ipython",
    "version": 3
   },
   "file_extension": ".py",
   "mimetype": "text/x-python",
   "name": "python",
   "nbconvert_exporter": "python",
   "pygments_lexer": "ipython3",
   "version": "3.9.7"
  }
 },
 "nbformat": 4,
 "nbformat_minor": 5
}
