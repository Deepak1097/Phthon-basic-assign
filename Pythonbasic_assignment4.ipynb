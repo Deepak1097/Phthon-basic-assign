{
 "cells": [
  {
   "cell_type": "raw",
   "id": "8b4e74f0",
   "metadata": {},
   "source": [
    "Q1. What exactly is []?\n",
    "\n",
    "    The empty list value, which is a list value that contains no items."
   ]
  },
  {
   "cell_type": "raw",
   "id": "230b16bc",
   "metadata": {},
   "source": [
    "Q2. In a list of values stored in a variable called spam, how would you assign the value hello as the\n",
    "    third value? (Assume [2, 4, 6, 8, 10] are in spam.)\n",
    "    \n",
    "    By making spam[2] = 'hello'\n",
    "    as shown in the form of result below.\n",
    "    "
   ]
  },
  {
   "cell_type": "code",
   "execution_count": 6,
   "id": "3dc8acda",
   "metadata": {},
   "outputs": [
    {
     "name": "stdout",
     "output_type": "stream",
     "text": [
      "[2, 4, 'hello', 8, 10]\n"
     ]
    }
   ],
   "source": [
    "spam = [2,4,6,8,10]\n",
    "spam[2]=\"hello\"\n",
    "print(spam)\n"
   ]
  },
  {
   "cell_type": "raw",
   "id": "5cd687b0",
   "metadata": {},
   "source": [
    "For the following three questions, let's say spam contains the list ['a', 'b', 'c', 'd'].\n",
    "\n",
    "Q3. What is the value of spam[int(int('3' * 2) / 11)]?\n",
    "\n",
    "    solution is explained below."
   ]
  },
  {
   "cell_type": "code",
   "execution_count": 11,
   "id": "904ba0e0",
   "metadata": {},
   "outputs": [
    {
     "data": {
      "text/plain": [
       "'d'"
      ]
     },
     "execution_count": 11,
     "metadata": {},
     "output_type": "execute_result"
    }
   ],
   "source": [
    "spam = ['a', 'b', 'c', 'd']\n",
    "spam[int(int('3' * 2) / 11)]"
   ]
  },
  {
   "cell_type": "raw",
   "id": "bd8d1b4f",
   "metadata": {},
   "source": [
    "Q4. What is the value of spam[-1]?"
   ]
  },
  {
   "cell_type": "code",
   "execution_count": 12,
   "id": "bfef78e5",
   "metadata": {},
   "outputs": [
    {
     "data": {
      "text/plain": [
       "'d'"
      ]
     },
     "execution_count": 12,
     "metadata": {},
     "output_type": "execute_result"
    }
   ],
   "source": [
    "spam[-1]"
   ]
  },
  {
   "cell_type": "raw",
   "id": "ddbe7b6c",
   "metadata": {},
   "source": [
    "Q5. What is the value of spam[:2]?"
   ]
  },
  {
   "cell_type": "code",
   "execution_count": 15,
   "id": "11dba2d5",
   "metadata": {},
   "outputs": [
    {
     "data": {
      "text/plain": [
       "['a', 'b']"
      ]
     },
     "execution_count": 15,
     "metadata": {},
     "output_type": "execute_result"
    }
   ],
   "source": [
    "spam[:2]"
   ]
  },
  {
   "cell_type": "raw",
   "id": "7a3d931d",
   "metadata": {},
   "source": [
    "For the following three questions, let's say bacon contains the list [3.14, 'cat', 11, 'cat', True]"
   ]
  },
  {
   "cell_type": "raw",
   "id": "a87be0c9",
   "metadata": {},
   "source": [
    "Q6. What does bacon.index('cat') evaluate to?"
   ]
  },
  {
   "cell_type": "code",
   "execution_count": 16,
   "id": "7b7cecd6",
   "metadata": {},
   "outputs": [
    {
     "data": {
      "text/plain": [
       "1"
      ]
     },
     "execution_count": 16,
     "metadata": {},
     "output_type": "execute_result"
    }
   ],
   "source": [
    "bacon = [3.14, 'cat', 11, 'cat', True]\n",
    "\n",
    "bacon.index('cat')"
   ]
  },
  {
   "cell_type": "raw",
   "id": "6860d68f",
   "metadata": {},
   "source": [
    "Q7. How does bacon.append(99) change the look of the list value in bacon?"
   ]
  },
  {
   "cell_type": "code",
   "execution_count": 18,
   "id": "9cf13de1",
   "metadata": {},
   "outputs": [
    {
     "name": "stdout",
     "output_type": "stream",
     "text": [
      "[3.14, 'cat', 11, 'cat', True, 99, 99]\n"
     ]
    }
   ],
   "source": [
    "bacon.append(99)\n",
    "print(bacon)"
   ]
  },
  {
   "cell_type": "raw",
   "id": "42f4c61e",
   "metadata": {},
   "source": [
    "Q8. How does bacon.remove('cat') change the look of the list in bacon?"
   ]
  },
  {
   "cell_type": "code",
   "execution_count": 20,
   "id": "2972f637",
   "metadata": {},
   "outputs": [
    {
     "name": "stdout",
     "output_type": "stream",
     "text": [
      "[3.14, 11, True, 99, 99]\n"
     ]
    }
   ],
   "source": [
    "bacon.remove('cat')\n",
    "print(bacon)"
   ]
  },
  {
   "cell_type": "raw",
   "id": "d5f0a863",
   "metadata": {},
   "source": [
    "Q9. What are the list concatenation and list replication operators\n",
    "\n",
    "    The operator for list concatenation is +, while the operator for replication is *."
   ]
  },
  {
   "cell_type": "raw",
   "id": "8aa39d79",
   "metadata": {},
   "source": [
    "Q10. What is difference between the list methods append() and insert()?\n",
    "\n",
    "     While append() will add values only to the end of a list, insert() can add them anywhere in the list."
   ]
  },
  {
   "cell_type": "raw",
   "id": "889100b3",
   "metadata": {},
   "source": [
    "Q11. What are the two methods for removing items from a list?\n",
    "     \n",
    "     The del statement and the remove() list method are two ways to remove values from a list.\n",
    "     "
   ]
  },
  {
   "cell_type": "raw",
   "id": "98fe992e",
   "metadata": {},
   "source": [
    "Q12. Describe how list values and string values are identical.\n",
    "     \n",
    "     Both lists and strings can be passed to len(), have indexes and slices, be used in for loops, be concatenated or                replicated, and be used with the in and not in operators.\n",
    "     "
   ]
  },
  {
   "cell_type": "raw",
   "id": "e8c81a33",
   "metadata": {},
   "source": [
    "Q13. What is the difference between tuples and lists?\n",
    "     \n",
    "     Lists are mutable; they can have values added, removed, or changed. Tuples are immutable; they cannot be changed at all.        Also, tuples are written using parentheses, (  ), while lists use the square brackets, [ ].\n",
    "    "
   ]
  },
  {
   "cell_type": "raw",
   "id": "524fc5db",
   "metadata": {},
   "source": [
    "Q14. How do you type a tuple value that only contains the integer 42?   \n"
   ]
  },
  {
   "cell_type": "code",
   "execution_count": 28,
   "id": "76737133",
   "metadata": {},
   "outputs": [
    {
     "name": "stdout",
     "output_type": "stream",
     "text": [
      "(42,)\n"
     ]
    }
   ],
   "source": [
    "t = (42,)\n",
    "print(t)"
   ]
  },
  {
   "cell_type": "raw",
   "id": "bb5adfc3",
   "metadata": {},
   "source": [
    "Q15. How do you get a list value's tuple form? How do you get a tuple value's list form?\n",
    "     let's say t = {1,2,3,4,5,6,7,8} is a tupels first we convert it to list and then again to tupels."
   ]
  },
  {
   "cell_type": "code",
   "execution_count": 41,
   "id": "4bf0112a",
   "metadata": {},
   "outputs": [
    {
     "name": "stdout",
     "output_type": "stream",
     "text": [
      "[1, 2, 3, 4, 5, 6, 7, 8]\n"
     ]
    }
   ],
   "source": [
    "t = (1,2,3,4,5,6,7,8)\n",
    "l=list(t)\n",
    "print(l)"
   ]
  },
  {
   "cell_type": "code",
   "execution_count": 42,
   "id": "6ab7731f",
   "metadata": {},
   "outputs": [
    {
     "name": "stdout",
     "output_type": "stream",
     "text": [
      "(1, 2, 3, 4, 5, 6, 7, 8)\n"
     ]
    }
   ],
   "source": [
    "m = tuple(l)\n",
    "print(m)"
   ]
  },
  {
   "cell_type": "code",
   "execution_count": 43,
   "id": "329ee128",
   "metadata": {},
   "outputs": [
    {
     "data": {
      "text/plain": [
       "tuple"
      ]
     },
     "execution_count": 43,
     "metadata": {},
     "output_type": "execute_result"
    }
   ],
   "source": [
    "type(m)"
   ]
  },
  {
   "cell_type": "raw",
   "id": "46c3c781",
   "metadata": {},
   "source": [
    " Q16. Variables that \"contain\" list values don't actually contain lists directly. What do they contain instead?\n",
    "     \n",
    "      basically they contain references to list values."
   ]
  },
  {
   "cell_type": "raw",
   "id": "e7b7822d",
   "metadata": {},
   "source": [
    " Q17. How do you distinguish between copy.copy() and copy.deepcopy()?\n",
    "      \n",
    "      The copy.copy() function will do a shallow copy of a list, while the copy.deepcopy() function will do a deep copy of a           list. That is, only copy.deepcopy() will duplicate any lists inside the list."
   ]
  },
  {
   "cell_type": "code",
   "execution_count": null,
   "id": "6a0f8131",
   "metadata": {},
   "outputs": [],
   "source": []
  }
 ],
 "metadata": {
  "kernelspec": {
   "display_name": "Python 3 (ipykernel)",
   "language": "python",
   "name": "python3"
  },
  "language_info": {
   "codemirror_mode": {
    "name": "ipython",
    "version": 3
   },
   "file_extension": ".py",
   "mimetype": "text/x-python",
   "name": "python",
   "nbconvert_exporter": "python",
   "pygments_lexer": "ipython3",
   "version": "3.9.7"
  }
 },
 "nbformat": 4,
 "nbformat_minor": 5
}
