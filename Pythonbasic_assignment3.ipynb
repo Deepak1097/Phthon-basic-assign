{
 "cells": [
  {
   "cell_type": "raw",
   "id": "26e62b0f",
   "metadata": {},
   "source": [
    "Q1. Why are functions advantageous to have in your programs?\n",
    "    \n",
    "    Python Functions stop us from writing the same logic various times. We can bind the logic in one def and then call the same     over and over."
   ]
  },
  {
   "cell_type": "raw",
   "id": "5bbb6456",
   "metadata": {},
   "source": [
    "Q2. When does the code in a function run: when it's specified or when it's called?\n",
    "   \n",
    "    code in a function run , when it's called.\n",
    "   "
   ]
  },
  {
   "cell_type": "raw",
   "id": "10066a3a",
   "metadata": {},
   "source": [
    "Q3. what statement creates a function?\n",
    "    \n",
    "    The “def” keyword is a statement for defining a function in Python. You start a function with the def keyword, specify a         name followed by a colon (:) sign."
   ]
  },
  {
   "cell_type": "raw",
   "id": "6fa34bb4",
   "metadata": {},
   "source": [
    "Q4. What is the difference between a function and a function call?\n",
    "\n",
    "    A function is procedure to achieve a particular result while function call is using this function to achive that task."
   ]
  },
  {
   "cell_type": "raw",
   "id": "cfc21650",
   "metadata": {},
   "source": [
    "Q5. How many global scopes are there in a Python program? How many local scopes?\n",
    "\n",
    "    There is one global scope and one local scope."
   ]
  },
  {
   "cell_type": "raw",
   "id": "5a93b533",
   "metadata": {},
   "source": [
    "Q6. What happens to variables in a local scope when the function call returns?\n",
    "\n",
    "    When the execution of the function terminates (returns), the local variables are destroyed.local variables disappear after       the function returns."
   ]
  },
  {
   "cell_type": "raw",
   "id": "7a0a0da7",
   "metadata": {},
   "source": [
    "Q7. What is the concept of a return value? Is it Is it possible to have a return value in an expression.\n",
    "\n",
    "    A return value is the value that a function call evaluates to. Like any value, a return value can be used as part of an         expression."
   ]
  },
  {
   "cell_type": "raw",
   "id": "e3cd0870",
   "metadata": {},
   "source": [
    "Q8. If a function does not have a return statement, what is the return value of a call to that function?\n",
    "\n",
    "    Function with no argument and no return value : When a function has no arguments, it does not receive any data from the         calling function.\n"
   ]
  },
  {
   "cell_type": "raw",
   "id": "3926e391",
   "metadata": {},
   "source": [
    "Q9. How do you make a function variable refer to the global variable?\n",
    "\n",
    "    If you want to refer to a global variable in a function, you can use the global keyword to declare which variables are           global."
   ]
  },
  {
   "cell_type": "raw",
   "id": "120c91b5",
   "metadata": {},
   "source": [
    "Q10. What is the data type of None?\n",
    "     class 'NoneType'\n",
    "     As shown via code below."
   ]
  },
  {
   "cell_type": "code",
   "execution_count": 4,
   "id": "ef757ff7",
   "metadata": {},
   "outputs": [
    {
     "name": "stdout",
     "output_type": "stream",
     "text": [
      "<class 'NoneType'>\n"
     ]
    }
   ],
   "source": [
    "print(type(None))"
   ]
  },
  {
   "cell_type": "raw",
   "id": "bec7ce27",
   "metadata": {},
   "source": [
    "Q11. What does the sentence import areallyourpetsnamederic do?\n",
    "\n",
    "     That import statement imports a module named areallyourpetsnamederic."
   ]
  },
  {
   "cell_type": "raw",
   "id": "8913d266",
   "metadata": {},
   "source": [
    "Q12. If you had a bacon() feature in a spam module, what would you call it after importing spam?\n",
    "     \n",
    "     This function can be called with spam.bacon().\n",
    "     "
   ]
  },
  {
   "cell_type": "raw",
   "id": "a354e6d4",
   "metadata": {},
   "source": [
    "Q13. What can you do to save a programme from crashing if it encounters an error?\n",
    "\n",
    "     Place the line of code that might cause an error in a try clause."
   ]
  },
  {
   "cell_type": "raw",
   "id": "8d05d179",
   "metadata": {},
   "source": [
    "14. What is the purpose of the try clause? What is the purpose of the except clause?\n",
    "    \n",
    "    The code that could potentially cause an error goes in the try clause.\n",
    "\n",
    "    The code that executes if an error happens goes in the except clause."
   ]
  },
  {
   "cell_type": "code",
   "execution_count": null,
   "id": "9d8c357b",
   "metadata": {},
   "outputs": [],
   "source": []
  }
 ],
 "metadata": {
  "kernelspec": {
   "display_name": "Python 3 (ipykernel)",
   "language": "python",
   "name": "python3"
  },
  "language_info": {
   "codemirror_mode": {
    "name": "ipython",
    "version": 3
   },
   "file_extension": ".py",
   "mimetype": "text/x-python",
   "name": "python",
   "nbconvert_exporter": "python",
   "pygments_lexer": "ipython3",
   "version": "3.9.7"
  }
 },
 "nbformat": 4,
 "nbformat_minor": 5
}
