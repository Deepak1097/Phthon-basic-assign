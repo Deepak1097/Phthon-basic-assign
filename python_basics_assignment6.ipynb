{
 "cells": [
  {
   "cell_type": "raw",
   "id": "af227ce6",
   "metadata": {},
   "source": [
    "Q1. What are escape characters, and how do you use them?\n",
    "    To insert characters that are illegal in a string, use an escape character.\n",
    "    An escape character is a backslash \\ followed by the character you want to insert."
   ]
  },
  {
   "cell_type": "raw",
   "id": "1946961b",
   "metadata": {},
   "source": [
    "Q2. What do the escape characters n and t stand for?\n",
    "    \\n (New line) – We use it to shift the cursor control to the new line\n",
    "    \\t (Horizontal tab) – We use it to shift the cursor to a couple of spaces to the right in the same line."
   ]
  },
  {
   "cell_type": "raw",
   "id": "cc900e7b",
   "metadata": {},
   "source": [
    "Q3. What is the way to include backslash characters in a string?\n",
    "    The \\\\ escape character will represent a backslash character."
   ]
  },
  {
   "cell_type": "raw",
   "id": "f06188d0",
   "metadata": {},
   "source": [
    "Q4.The string value \"Howl's Moving Castle\" is a valid string. Why isn't it a problem that the single quote character in the        word Howl's isn't escaped?\n",
    "   The single quote in Howl's is fine because you've used double quotes to mark the beginning and end of the string."
   ]
  },
  {
   "cell_type": "raw",
   "id": "44214e0d",
   "metadata": {},
   "source": [
    "Q5.If you don't want to put \\n in your string, how can you write a string with newlines in it?"
   ]
  },
  {
   "cell_type": "raw",
   "id": "cef5cfc6",
   "metadata": {},
   "source": [
    "Q6. What do the following expressions evaluate to?\n",
    "\n",
    "    'Hello world!'[1]\n",
    "\n",
    "    'Hello world!'[0:5]\n",
    "\n",
    "    'Hello world!'[:5]\n",
    "\n",
    "    'Hello world!'[3:]"
   ]
  },
  {
   "cell_type": "code",
   "execution_count": 2,
   "id": "cdc9e665",
   "metadata": {},
   "outputs": [
    {
     "name": "stdout",
     "output_type": "stream",
     "text": [
      "e\n"
     ]
    }
   ],
   "source": [
    "print('Hello world!'[1])\n"
   ]
  },
  {
   "cell_type": "code",
   "execution_count": 4,
   "id": "0c8c5fc4",
   "metadata": {},
   "outputs": [
    {
     "name": "stdout",
     "output_type": "stream",
     "text": [
      "Hello\n"
     ]
    }
   ],
   "source": [
    "print('Hello world!'[0:5])"
   ]
  },
  {
   "cell_type": "code",
   "execution_count": 5,
   "id": "528109e3",
   "metadata": {},
   "outputs": [
    {
     "name": "stdout",
     "output_type": "stream",
     "text": [
      "Hello\n"
     ]
    }
   ],
   "source": [
    "print('Hello world!'[:5])"
   ]
  },
  {
   "cell_type": "code",
   "execution_count": 6,
   "id": "793d3730",
   "metadata": {},
   "outputs": [
    {
     "name": "stdout",
     "output_type": "stream",
     "text": [
      "lo world!\n"
     ]
    }
   ],
   "source": [
    "print('Hello world!'[3:])"
   ]
  },
  {
   "cell_type": "raw",
   "id": "e6ad32a3",
   "metadata": {},
   "source": [
    "Q7. What do the following expressions evaluate to?\n",
    "\n",
    "'Hello'.upper()\n",
    "\n",
    "'Hello'.upper().isupper()\n",
    "\n",
    "'Hello'.upper().lower()"
   ]
  },
  {
   "cell_type": "code",
   "execution_count": 7,
   "id": "08c40264",
   "metadata": {},
   "outputs": [
    {
     "name": "stdout",
     "output_type": "stream",
     "text": [
      "HELLO\n"
     ]
    }
   ],
   "source": [
    "print('Hello'.upper())"
   ]
  },
  {
   "cell_type": "code",
   "execution_count": 9,
   "id": "36baab4e",
   "metadata": {},
   "outputs": [
    {
     "name": "stdout",
     "output_type": "stream",
     "text": [
      "True\n"
     ]
    }
   ],
   "source": [
    "print('Hello'.upper().isupper())"
   ]
  },
  {
   "cell_type": "raw",
   "id": "0bd5a05e",
   "metadata": {},
   "source": [
    "Q8.What do the following expressions evaluate to?\n",
    "\n",
    "'Remember, remember, the fifth of November.'.split()\n",
    "\n",
    "'-'.join('There can be only one.'.split())"
   ]
  },
  {
   "cell_type": "code",
   "execution_count": 1,
   "id": "9fb4ba4f",
   "metadata": {},
   "outputs": [
    {
     "name": "stdout",
     "output_type": "stream",
     "text": [
      "['Remember,', 'remember,', 'the', 'fifth', 'of', 'November.']\n"
     ]
    }
   ],
   "source": [
    "print('Remember, remember, the fifth of November.'.split())"
   ]
  },
  {
   "cell_type": "code",
   "execution_count": 2,
   "id": "ca050299",
   "metadata": {},
   "outputs": [
    {
     "name": "stdout",
     "output_type": "stream",
     "text": [
      "There-can-be-only-one.\n"
     ]
    }
   ],
   "source": [
    "print('-'.join('There can be only one.'.split()))"
   ]
  },
  {
   "cell_type": "raw",
   "id": "34349132",
   "metadata": {},
   "source": [
    "Q9. What string methods can you use to right-justify, left-justify, and center a string?\n",
    "    The rjust(), ljust(), and center() string methods, respectively"
   ]
  },
  {
   "cell_type": "raw",
   "id": "c555490c",
   "metadata": {},
   "source": [
    "Q10. What is the best way to remove whitespace characters from the start or end?\n",
    "     The lstrip() and rstrip() methods remove whitespace from the left and right ends of a string, respectively.\n",
    "     "
   ]
  },
  {
   "cell_type": "raw",
   "id": "994563ee",
   "metadata": {},
   "source": []
  },
  {
   "cell_type": "code",
   "execution_count": null,
   "id": "1750b4e7",
   "metadata": {},
   "outputs": [],
   "source": []
  }
 ],
 "metadata": {
  "kernelspec": {
   "display_name": "Python 3 (ipykernel)",
   "language": "python",
   "name": "python3"
  },
  "language_info": {
   "codemirror_mode": {
    "name": "ipython",
    "version": 3
   },
   "file_extension": ".py",
   "mimetype": "text/x-python",
   "name": "python",
   "nbconvert_exporter": "python",
   "pygments_lexer": "ipython3",
   "version": "3.9.7"
  }
 },
 "nbformat": 4,
 "nbformat_minor": 5
}
