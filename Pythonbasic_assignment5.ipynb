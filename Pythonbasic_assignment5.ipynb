{
 "cells": [
  {
   "cell_type": "raw",
   "id": "904c4e8e",
   "metadata": {},
   "source": [
    "Q1. What does an empty dictionary's code is look like?"
   ]
  },
  {
   "cell_type": "code",
   "execution_count": 1,
   "id": "eed079e2",
   "metadata": {},
   "outputs": [
    {
     "name": "stdout",
     "output_type": "stream",
     "text": [
      "{}\n",
      "Length: 0\n",
      "<class 'dict'>\n"
     ]
    }
   ],
   "source": [
    "emptyDict = {}\n",
    " \n",
    "# print dictionary\n",
    "print(emptyDict)\n",
    " \n",
    "# print length of dictionary\n",
    "print(\"Length:\", len(emptyDict))\n",
    " \n",
    "# print type\n",
    "print(type(emptyDict))"
   ]
  },
  {
   "cell_type": "raw",
   "id": "c24aa8d4",
   "metadata": {},
   "source": [
    "Q2.What is the value of a dictionary value with the key 'foo'and the value 42?"
   ]
  },
  {
   "cell_type": "code",
   "execution_count": 3,
   "id": "c79a3fe4",
   "metadata": {},
   "outputs": [
    {
     "name": "stdout",
     "output_type": "stream",
     "text": [
      "{'foo': 42}\n"
     ]
    }
   ],
   "source": [
    "dic = {\"foo\":42}\n",
    "print(dic)"
   ]
  },
  {
   "cell_type": "raw",
   "id": "855d5e01",
   "metadata": {},
   "source": [
    "Q3. What is the most significant distinction between a dictionary and a list?\n",
    "    \n",
    "    The items stored in a dictionary are unordered, while the items in a list are ordered."
   ]
  },
  {
   "cell_type": "raw",
   "id": "3c9a2e6b",
   "metadata": {},
   "source": [
    "Q4. What happens if you try to access spam['foo']' if spam is {'bar': 100}?\n",
    "\n",
    "    we will get a key error as [KeyError: 'foo']"
   ]
  },
  {
   "cell_type": "code",
   "execution_count": 4,
   "id": "44e2bef5",
   "metadata": {},
   "outputs": [],
   "source": [
    "spam = {'bar': 100}\n"
   ]
  },
  {
   "cell_type": "code",
   "execution_count": 6,
   "id": "b3a55214",
   "metadata": {},
   "outputs": [
    {
     "ename": "KeyError",
     "evalue": "'foo'",
     "output_type": "error",
     "traceback": [
      "\u001b[1;31m---------------------------------------------------------------------------\u001b[0m",
      "\u001b[1;31mKeyError\u001b[0m                                  Traceback (most recent call last)",
      "\u001b[1;32m~\\AppData\\Local\\Temp/ipykernel_5292/3999281786.py\u001b[0m in \u001b[0;36m<module>\u001b[1;34m\u001b[0m\n\u001b[1;32m----> 1\u001b[1;33m \u001b[0mspam\u001b[0m\u001b[1;33m[\u001b[0m\u001b[1;34m'foo'\u001b[0m\u001b[1;33m]\u001b[0m\u001b[1;33m\u001b[0m\u001b[1;33m\u001b[0m\u001b[0m\n\u001b[0m",
      "\u001b[1;31mKeyError\u001b[0m: 'foo'"
     ]
    }
   ],
   "source": [
    "spam['foo']"
   ]
  },
  {
   "cell_type": "raw",
   "id": "1ef86ac2",
   "metadata": {},
   "source": [
    "Q5. If a dictionary is stored in spam, what is the difference between the expressions 'cat' in spam and\n",
    "      'cat' in spam.keys()?\n",
    "      \n",
    "    There is no difference. The in operator checks whether a value exists as a key in the dictionary."
   ]
  },
  {
   "cell_type": "raw",
   "id": "202072d2",
   "metadata": {},
   "source": [
    "Q6.If a dictionary is stored in spam, what is the difference between the expressions 'cat' in spam and\n",
    "    'cat' in spam.values()?\n",
    "    \n",
    "    cat' in spam checks whether there is a 'cat' key in the dictionary, while 'cat' in spam.values() checks whether there is a       value 'cat' for one of the keys in spam."
   ]
  },
  {
   "cell_type": "raw",
   "id": "3f8264e7",
   "metadata": {},
   "source": [
    "Q7. What is a shortcut for the following code?\n",
    "    if 'color' not in spam:\n",
    "    spam['color'] = 'black'\n",
    "    \n",
    "    spam.setdefault('color', 'black')"
   ]
  },
  {
   "cell_type": "raw",
   "id": "a4f59c37",
   "metadata": {},
   "source": [
    "Q8. How do you 'pretty print' dictionary values using which module and function?\n",
    " \n",
    "    pprint.pprint()\n"
   ]
  }
 ],
 "metadata": {
  "kernelspec": {
   "display_name": "Python 3 (ipykernel)",
   "language": "python",
   "name": "python3"
  },
  "language_info": {
   "codemirror_mode": {
    "name": "ipython",
    "version": 3
   },
   "file_extension": ".py",
   "mimetype": "text/x-python",
   "name": "python",
   "nbconvert_exporter": "python",
   "pygments_lexer": "ipython3",
   "version": "3.9.7"
  }
 },
 "nbformat": 4,
 "nbformat_minor": 5
}
