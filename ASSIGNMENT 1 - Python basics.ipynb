{
 "cells": [
  {
   "cell_type": "raw",
   "id": "e67d5eb2",
   "metadata": {},
   "source": [
    "Q1. In the below elements which of them are values or an expression? \n",
    "\n",
    "* is an expression\n",
    "'hello' is value(string)\n",
    "-87.8 is value(integer)\n",
    "- is an expression\n",
    "/ is an expression\n",
    "+ is an expression\n",
    "6 is value(integer)"
   ]
  },
  {
   "cell_type": "raw",
   "id": "f67d450c",
   "metadata": {},
   "source": [
    "Q2. What is the difference between string and variable?\n",
    "    \n",
    "A Variable is a store of information, and a String is a type of information you would store in a Variable. A String is      usually words, enclosed with \"\"or ''\n",
    "\n",
    "Eg\n",
    "String a =\"come here\"\n",
    "a is the Variable, and we declared it as a String."
   ]
  },
  {
   "cell_type": "raw",
   "id": "8f4a98ab",
   "metadata": {},
   "source": [
    "Q3. Describe three different data types.\n",
    "\n",
    "Data types in phthon can be of different types three of them is explained as\n",
    "\n",
    "Integers – This value is represented by int class. It contains positive or negative whole numbers (without fraction or decimal). \n",
    "\n",
    "Float – This value is represented by float class. It is a real number with floating point representation. It is specified by a decimal point. Optionally, the character e or E followed by a positive or negative integer may be appended to specify scientific notation.\n",
    "\n",
    "Complex Numbers – Complex number is represented by complex class. It is specified as (real part) + (imaginary part)j. For example – 1+3j\n",
    "\n",
    "\n",
    " "
   ]
  },
  {
   "cell_type": "raw",
   "id": "504061fc",
   "metadata": {},
   "source": [
    "Q4. What is an expression made up of? What do all expressions do?\n",
    "\n",
    "An expression is made up of variables, operators, and method invocations, which are constructed according to the syntax of the language, that evaluates to a single value.\n"
   ]
  },
  {
   "cell_type": "raw",
   "id": "6270a83e",
   "metadata": {},
   "source": [
    "Q5. This assignment statements, like spam = 10. What is the difference between an\n",
    "expression and a statement?\n",
    "\n",
    "Expressions only contain identifiers, literals and operators, where operators include arithmetic and boolean operators, the function call operator () the subscription operator [] and similar, and can be reduced to some kind of \"value\", which can be any Python object.Statements  on the other hand, are everything that can make up a line (or several lines) of Python code. Note that expressions are statements as well. "
   ]
  },
  {
   "cell_type": "raw",
   "id": "6cdbcea6",
   "metadata": {},
   "source": [
    "Q6. After running the following code, what does the variable bacon contain?\n",
    "    bacon = 22\n",
    "    bacon + 1"
   ]
  },
  {
   "cell_type": "code",
   "execution_count": 2,
   "id": "b23ced88",
   "metadata": {},
   "outputs": [],
   "source": [
    "bacon=22"
   ]
  },
  {
   "cell_type": "code",
   "execution_count": 3,
   "id": "7ab820d7",
   "metadata": {},
   "outputs": [
    {
     "data": {
      "text/plain": [
       "23"
      ]
     },
     "execution_count": 3,
     "metadata": {},
     "output_type": "execute_result"
    }
   ],
   "source": [
    "bacon+1"
   ]
  },
  {
   "cell_type": "raw",
   "id": "51aab3bc",
   "metadata": {},
   "source": [
    " after running the complete code it will give us output as 23 , with bacon having assigned value as 22."
   ]
  },
  {
   "cell_type": "raw",
   "id": "13d82358",
   "metadata": {},
   "source": [
    "Q7.What should the values of the following two terms be?\n",
    "'spam'+'spamspam'\n",
    "'spam'*3"
   ]
  },
  {
   "cell_type": "code",
   "execution_count": 5,
   "id": "08498694",
   "metadata": {},
   "outputs": [
    {
     "data": {
      "text/plain": [
       "'spamspamspam'"
      ]
     },
     "execution_count": 5,
     "metadata": {},
     "output_type": "execute_result"
    }
   ],
   "source": [
    "'spam'+'spamspam'\n"
   ]
  },
  {
   "cell_type": "code",
   "execution_count": 6,
   "id": "4a32ff97",
   "metadata": {},
   "outputs": [
    {
     "data": {
      "text/plain": [
       "'spamspamspam'"
      ]
     },
     "execution_count": 6,
     "metadata": {},
     "output_type": "execute_result"
    }
   ],
   "source": [
    "'spam'*3"
   ]
  },
  {
   "cell_type": "raw",
   "id": "38af20a4",
   "metadata": {},
   "source": [
    "both the given values have the same output as'spamspamspam'"
   ]
  },
  {
   "cell_type": "raw",
   "id": "c83e74f8",
   "metadata": {},
   "source": []
  },
  {
   "cell_type": "raw",
   "id": "1a6b9bb2",
   "metadata": {},
   "source": [
    "Q8. Why is eggs a valid variable name while 100 is invalid?\n",
    "\n",
    "   This is because Variable names cannot begin with numbers."
   ]
  },
  {
   "cell_type": "raw",
   "id": "acec5973",
   "metadata": {},
   "source": [
    "Q9. What three functions can be used to get the integer, floating-point number, or string\n",
    "version of a value?\n",
    "\n",
    "to get the integer version  int()\n",
    "to get the floating-point number version float()\n",
    "to get the string version str()"
   ]
  },
  {
   "cell_type": "raw",
   "id": "7db43556",
   "metadata": {},
   "source": [
    "Q10. Why does this expression cause an error? How can you fix it?\n",
    "    'I have eaten ' + 99 + 'burritos.'\n",
    "    \n",
    "    since 99 is an integer it will show error because we can\"t add string with the interger so we have to convert\n",
    "    it into string to get the output,this can be done as follows."
   ]
  },
  {
   "cell_type": "code",
   "execution_count": 19,
   "id": "69b08745",
   "metadata": {},
   "outputs": [
    {
     "data": {
      "text/plain": [
       "'I have eaten + \"99\" + burritos.'"
      ]
     },
     "execution_count": 19,
     "metadata": {},
     "output_type": "execute_result"
    }
   ],
   "source": []
  },
  {
   "cell_type": "raw",
   "id": "eb94e791",
   "metadata": {},
   "source": [
    "or "
   ]
  },
  {
   "cell_type": "code",
   "execution_count": 18,
   "id": "4573b536",
   "metadata": {},
   "outputs": [
    {
     "data": {
      "text/plain": [
       "'I have eaten 99 burritos.'"
      ]
     },
     "execution_count": 18,
     "metadata": {},
     "output_type": "execute_result"
    }
   ],
   "source": [
    "'I have eaten ' + str(99) + ' burritos.'"
   ]
  },
  {
   "cell_type": "code",
   "execution_count": null,
   "id": "4a73b08e",
   "metadata": {},
   "outputs": [],
   "source": []
  }
 ],
 "metadata": {
  "kernelspec": {
   "display_name": "Python 3 (ipykernel)",
   "language": "python",
   "name": "python3"
  },
  "language_info": {
   "codemirror_mode": {
    "name": "ipython",
    "version": 3
   },
   "file_extension": ".py",
   "mimetype": "text/x-python",
   "name": "python",
   "nbconvert_exporter": "python",
   "pygments_lexer": "ipython3",
   "version": "3.9.7"
  }
 },
 "nbformat": 4,
 "nbformat_minor": 5
}
